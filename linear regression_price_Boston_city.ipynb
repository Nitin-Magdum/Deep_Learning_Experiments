{
  "cells": [
    {
      "cell_type": "markdown",
      "metadata": {
        "id": "BMghs7ae_BHv"
      },
      "source": [
        "# Boston Housing Price Prediction"
      ]
    },
    {
      "cell_type": "markdown",
      "metadata": {
        "id": "OV5IdRz6DOYc"
      },
      "source": [
        "### Load needed files"
      ]
    },
    {
      "cell_type": "code",
      "execution_count": 1,
      "metadata": {
        "id": "b8NgnmTSDTJG"
      },
      "outputs": [
        {
          "name": "stderr",
          "output_type": "stream",
          "text": [
            "C:\\Users\\ASUS\\anaconda3\\envs\\project\\lib\\site-packages\\tensorflow\\python\\framework\\dtypes.py:516: FutureWarning: Passing (type, 1) or '1type' as a synonym of type is deprecated; in a future version of numpy, it will be understood as (type, (1,)) / '(1,)type'.\n",
            "  _np_qint8 = np.dtype([(\"qint8\", np.int8, 1)])\n",
            "C:\\Users\\ASUS\\anaconda3\\envs\\project\\lib\\site-packages\\tensorflow\\python\\framework\\dtypes.py:517: FutureWarning: Passing (type, 1) or '1type' as a synonym of type is deprecated; in a future version of numpy, it will be understood as (type, (1,)) / '(1,)type'.\n",
            "  _np_quint8 = np.dtype([(\"quint8\", np.uint8, 1)])\n",
            "C:\\Users\\ASUS\\anaconda3\\envs\\project\\lib\\site-packages\\tensorflow\\python\\framework\\dtypes.py:518: FutureWarning: Passing (type, 1) or '1type' as a synonym of type is deprecated; in a future version of numpy, it will be understood as (type, (1,)) / '(1,)type'.\n",
            "  _np_qint16 = np.dtype([(\"qint16\", np.int16, 1)])\n",
            "C:\\Users\\ASUS\\anaconda3\\envs\\project\\lib\\site-packages\\tensorflow\\python\\framework\\dtypes.py:519: FutureWarning: Passing (type, 1) or '1type' as a synonym of type is deprecated; in a future version of numpy, it will be understood as (type, (1,)) / '(1,)type'.\n",
            "  _np_quint16 = np.dtype([(\"quint16\", np.uint16, 1)])\n",
            "C:\\Users\\ASUS\\anaconda3\\envs\\project\\lib\\site-packages\\tensorflow\\python\\framework\\dtypes.py:520: FutureWarning: Passing (type, 1) or '1type' as a synonym of type is deprecated; in a future version of numpy, it will be understood as (type, (1,)) / '(1,)type'.\n",
            "  _np_qint32 = np.dtype([(\"qint32\", np.int32, 1)])\n",
            "C:\\Users\\ASUS\\anaconda3\\envs\\project\\lib\\site-packages\\tensorflow\\python\\framework\\dtypes.py:525: FutureWarning: Passing (type, 1) or '1type' as a synonym of type is deprecated; in a future version of numpy, it will be understood as (type, (1,)) / '(1,)type'.\n",
            "  np_resource = np.dtype([(\"resource\", np.ubyte, 1)])\n",
            "C:\\Users\\ASUS\\anaconda3\\envs\\project\\lib\\site-packages\\tensorboard\\compat\\tensorflow_stub\\dtypes.py:541: FutureWarning: Passing (type, 1) or '1type' as a synonym of type is deprecated; in a future version of numpy, it will be understood as (type, (1,)) / '(1,)type'.\n",
            "  _np_qint8 = np.dtype([(\"qint8\", np.int8, 1)])\n",
            "C:\\Users\\ASUS\\anaconda3\\envs\\project\\lib\\site-packages\\tensorboard\\compat\\tensorflow_stub\\dtypes.py:542: FutureWarning: Passing (type, 1) or '1type' as a synonym of type is deprecated; in a future version of numpy, it will be understood as (type, (1,)) / '(1,)type'.\n",
            "  _np_quint8 = np.dtype([(\"quint8\", np.uint8, 1)])\n",
            "C:\\Users\\ASUS\\anaconda3\\envs\\project\\lib\\site-packages\\tensorboard\\compat\\tensorflow_stub\\dtypes.py:543: FutureWarning: Passing (type, 1) or '1type' as a synonym of type is deprecated; in a future version of numpy, it will be understood as (type, (1,)) / '(1,)type'.\n",
            "  _np_qint16 = np.dtype([(\"qint16\", np.int16, 1)])\n",
            "C:\\Users\\ASUS\\anaconda3\\envs\\project\\lib\\site-packages\\tensorboard\\compat\\tensorflow_stub\\dtypes.py:544: FutureWarning: Passing (type, 1) or '1type' as a synonym of type is deprecated; in a future version of numpy, it will be understood as (type, (1,)) / '(1,)type'.\n",
            "  _np_quint16 = np.dtype([(\"quint16\", np.uint16, 1)])\n",
            "C:\\Users\\ASUS\\anaconda3\\envs\\project\\lib\\site-packages\\tensorboard\\compat\\tensorflow_stub\\dtypes.py:545: FutureWarning: Passing (type, 1) or '1type' as a synonym of type is deprecated; in a future version of numpy, it will be understood as (type, (1,)) / '(1,)type'.\n",
            "  _np_qint32 = np.dtype([(\"qint32\", np.int32, 1)])\n",
            "C:\\Users\\ASUS\\anaconda3\\envs\\project\\lib\\site-packages\\tensorboard\\compat\\tensorflow_stub\\dtypes.py:550: FutureWarning: Passing (type, 1) or '1type' as a synonym of type is deprecated; in a future version of numpy, it will be understood as (type, (1,)) / '(1,)type'.\n",
            "  np_resource = np.dtype([(\"resource\", np.ubyte, 1)])\n"
          ]
        }
      ],
      "source": [
        "import pandas as pd\n",
        "import numpy as np\n",
        "import tensorflow as tf"
      ]
    },
    {
      "cell_type": "code",
      "execution_count": 2,
      "metadata": {
        "colab": {
          "base_uri": "https://localhost:8080/",
          "height": 238
        },
        "id": "PGnkYLI5DYzB",
        "outputId": "1c945b2b-93d2-403c-d909-0f131b55c0b9"
      },
      "outputs": [
        {
          "data": {
            "text/html": [
              "<div>\n",
              "<style scoped>\n",
              "    .dataframe tbody tr th:only-of-type {\n",
              "        vertical-align: middle;\n",
              "    }\n",
              "\n",
              "    .dataframe tbody tr th {\n",
              "        vertical-align: top;\n",
              "    }\n",
              "\n",
              "    .dataframe thead th {\n",
              "        text-align: right;\n",
              "    }\n",
              "</style>\n",
              "<table border=\"1\" class=\"dataframe\">\n",
              "  <thead>\n",
              "    <tr style=\"text-align: right;\">\n",
              "      <th></th>\n",
              "      <th>crim</th>\n",
              "      <th>zn</th>\n",
              "      <th>indus</th>\n",
              "      <th>chas</th>\n",
              "      <th>nox</th>\n",
              "      <th>rm</th>\n",
              "      <th>age</th>\n",
              "      <th>dis</th>\n",
              "      <th>rad</th>\n",
              "      <th>tax</th>\n",
              "      <th>ptratio</th>\n",
              "      <th>black</th>\n",
              "      <th>lstat</th>\n",
              "      <th>medv</th>\n",
              "    </tr>\n",
              "    <tr>\n",
              "      <th>ID</th>\n",
              "      <th></th>\n",
              "      <th></th>\n",
              "      <th></th>\n",
              "      <th></th>\n",
              "      <th></th>\n",
              "      <th></th>\n",
              "      <th></th>\n",
              "      <th></th>\n",
              "      <th></th>\n",
              "      <th></th>\n",
              "      <th></th>\n",
              "      <th></th>\n",
              "      <th></th>\n",
              "      <th></th>\n",
              "    </tr>\n",
              "  </thead>\n",
              "  <tbody>\n",
              "    <tr>\n",
              "      <th>1</th>\n",
              "      <td>0.00632</td>\n",
              "      <td>18.0</td>\n",
              "      <td>2.31</td>\n",
              "      <td>0</td>\n",
              "      <td>0.538</td>\n",
              "      <td>6.575</td>\n",
              "      <td>65.2</td>\n",
              "      <td>4.0900</td>\n",
              "      <td>1</td>\n",
              "      <td>296</td>\n",
              "      <td>15.3</td>\n",
              "      <td>396.90</td>\n",
              "      <td>4.98</td>\n",
              "      <td>24.0</td>\n",
              "    </tr>\n",
              "    <tr>\n",
              "      <th>2</th>\n",
              "      <td>0.02731</td>\n",
              "      <td>0.0</td>\n",
              "      <td>7.07</td>\n",
              "      <td>0</td>\n",
              "      <td>0.469</td>\n",
              "      <td>6.421</td>\n",
              "      <td>78.9</td>\n",
              "      <td>4.9671</td>\n",
              "      <td>2</td>\n",
              "      <td>242</td>\n",
              "      <td>17.8</td>\n",
              "      <td>396.90</td>\n",
              "      <td>9.14</td>\n",
              "      <td>21.6</td>\n",
              "    </tr>\n",
              "    <tr>\n",
              "      <th>4</th>\n",
              "      <td>0.03237</td>\n",
              "      <td>0.0</td>\n",
              "      <td>2.18</td>\n",
              "      <td>0</td>\n",
              "      <td>0.458</td>\n",
              "      <td>6.998</td>\n",
              "      <td>45.8</td>\n",
              "      <td>6.0622</td>\n",
              "      <td>3</td>\n",
              "      <td>222</td>\n",
              "      <td>18.7</td>\n",
              "      <td>394.63</td>\n",
              "      <td>2.94</td>\n",
              "      <td>33.4</td>\n",
              "    </tr>\n",
              "    <tr>\n",
              "      <th>5</th>\n",
              "      <td>0.06905</td>\n",
              "      <td>0.0</td>\n",
              "      <td>2.18</td>\n",
              "      <td>0</td>\n",
              "      <td>0.458</td>\n",
              "      <td>7.147</td>\n",
              "      <td>54.2</td>\n",
              "      <td>6.0622</td>\n",
              "      <td>3</td>\n",
              "      <td>222</td>\n",
              "      <td>18.7</td>\n",
              "      <td>396.90</td>\n",
              "      <td>5.33</td>\n",
              "      <td>36.2</td>\n",
              "    </tr>\n",
              "    <tr>\n",
              "      <th>7</th>\n",
              "      <td>0.08829</td>\n",
              "      <td>12.5</td>\n",
              "      <td>7.87</td>\n",
              "      <td>0</td>\n",
              "      <td>0.524</td>\n",
              "      <td>6.012</td>\n",
              "      <td>66.6</td>\n",
              "      <td>5.5605</td>\n",
              "      <td>5</td>\n",
              "      <td>311</td>\n",
              "      <td>15.2</td>\n",
              "      <td>395.60</td>\n",
              "      <td>12.43</td>\n",
              "      <td>22.9</td>\n",
              "    </tr>\n",
              "  </tbody>\n",
              "</table>\n",
              "</div>"
            ],
            "text/plain": [
              "       crim    zn  indus  chas    nox     rm   age     dis  rad  tax  ptratio  \\\n",
              "ID                                                                              \n",
              "1   0.00632  18.0   2.31     0  0.538  6.575  65.2  4.0900    1  296     15.3   \n",
              "2   0.02731   0.0   7.07     0  0.469  6.421  78.9  4.9671    2  242     17.8   \n",
              "4   0.03237   0.0   2.18     0  0.458  6.998  45.8  6.0622    3  222     18.7   \n",
              "5   0.06905   0.0   2.18     0  0.458  7.147  54.2  6.0622    3  222     18.7   \n",
              "7   0.08829  12.5   7.87     0  0.524  6.012  66.6  5.5605    5  311     15.2   \n",
              "\n",
              "     black  lstat  medv  \n",
              "ID                       \n",
              "1   396.90   4.98  24.0  \n",
              "2   396.90   9.14  21.6  \n",
              "4   394.63   2.94  33.4  \n",
              "5   396.90   5.33  36.2  \n",
              "7   395.60  12.43  22.9  "
            ]
          },
          "execution_count": 2,
          "metadata": {},
          "output_type": "execute_result"
        }
      ],
      "source": [
        "train_df = pd.read_csv('https://firebasestorage.googleapis.com/v0/b/bible-project-2365c.appspot.com/o/train.csv?alt=media&token=9c5d17c2-0589-43ea-b992-e7c2ad02d714', index_col='ID')\n",
        "train_df.head()"
      ]
    },
    {
      "cell_type": "code",
      "execution_count": 3,
      "metadata": {
        "colab": {
          "base_uri": "https://localhost:8080/",
          "height": 238
        },
        "id": "UM9WU2xVEEti",
        "outputId": "f41ef4d0-a3de-4e5b-c163-f68fd58865ed"
      },
      "outputs": [
        {
          "data": {
            "text/html": [
              "<div>\n",
              "<style scoped>\n",
              "    .dataframe tbody tr th:only-of-type {\n",
              "        vertical-align: middle;\n",
              "    }\n",
              "\n",
              "    .dataframe tbody tr th {\n",
              "        vertical-align: top;\n",
              "    }\n",
              "\n",
              "    .dataframe thead th {\n",
              "        text-align: right;\n",
              "    }\n",
              "</style>\n",
              "<table border=\"1\" class=\"dataframe\">\n",
              "  <thead>\n",
              "    <tr style=\"text-align: right;\">\n",
              "      <th></th>\n",
              "      <th>crim</th>\n",
              "      <th>zn</th>\n",
              "      <th>indus</th>\n",
              "      <th>chas</th>\n",
              "      <th>nox</th>\n",
              "      <th>rm</th>\n",
              "      <th>age</th>\n",
              "      <th>dis</th>\n",
              "      <th>rad</th>\n",
              "      <th>tax</th>\n",
              "      <th>ptratio</th>\n",
              "      <th>black</th>\n",
              "      <th>lstat</th>\n",
              "    </tr>\n",
              "    <tr>\n",
              "      <th>ID</th>\n",
              "      <th></th>\n",
              "      <th></th>\n",
              "      <th></th>\n",
              "      <th></th>\n",
              "      <th></th>\n",
              "      <th></th>\n",
              "      <th></th>\n",
              "      <th></th>\n",
              "      <th></th>\n",
              "      <th></th>\n",
              "      <th></th>\n",
              "      <th></th>\n",
              "      <th></th>\n",
              "    </tr>\n",
              "  </thead>\n",
              "  <tbody>\n",
              "    <tr>\n",
              "      <th>3</th>\n",
              "      <td>0.02729</td>\n",
              "      <td>0.0</td>\n",
              "      <td>7.07</td>\n",
              "      <td>0</td>\n",
              "      <td>0.469</td>\n",
              "      <td>7.185</td>\n",
              "      <td>61.1</td>\n",
              "      <td>4.9671</td>\n",
              "      <td>2</td>\n",
              "      <td>242</td>\n",
              "      <td>17.8</td>\n",
              "      <td>392.83</td>\n",
              "      <td>4.03</td>\n",
              "    </tr>\n",
              "    <tr>\n",
              "      <th>6</th>\n",
              "      <td>0.02985</td>\n",
              "      <td>0.0</td>\n",
              "      <td>2.18</td>\n",
              "      <td>0</td>\n",
              "      <td>0.458</td>\n",
              "      <td>6.430</td>\n",
              "      <td>58.7</td>\n",
              "      <td>6.0622</td>\n",
              "      <td>3</td>\n",
              "      <td>222</td>\n",
              "      <td>18.7</td>\n",
              "      <td>394.12</td>\n",
              "      <td>5.21</td>\n",
              "    </tr>\n",
              "    <tr>\n",
              "      <th>8</th>\n",
              "      <td>0.14455</td>\n",
              "      <td>12.5</td>\n",
              "      <td>7.87</td>\n",
              "      <td>0</td>\n",
              "      <td>0.524</td>\n",
              "      <td>6.172</td>\n",
              "      <td>96.1</td>\n",
              "      <td>5.9505</td>\n",
              "      <td>5</td>\n",
              "      <td>311</td>\n",
              "      <td>15.2</td>\n",
              "      <td>396.90</td>\n",
              "      <td>19.15</td>\n",
              "    </tr>\n",
              "    <tr>\n",
              "      <th>9</th>\n",
              "      <td>0.21124</td>\n",
              "      <td>12.5</td>\n",
              "      <td>7.87</td>\n",
              "      <td>0</td>\n",
              "      <td>0.524</td>\n",
              "      <td>5.631</td>\n",
              "      <td>100.0</td>\n",
              "      <td>6.0821</td>\n",
              "      <td>5</td>\n",
              "      <td>311</td>\n",
              "      <td>15.2</td>\n",
              "      <td>386.63</td>\n",
              "      <td>29.93</td>\n",
              "    </tr>\n",
              "    <tr>\n",
              "      <th>10</th>\n",
              "      <td>0.17004</td>\n",
              "      <td>12.5</td>\n",
              "      <td>7.87</td>\n",
              "      <td>0</td>\n",
              "      <td>0.524</td>\n",
              "      <td>6.004</td>\n",
              "      <td>85.9</td>\n",
              "      <td>6.5921</td>\n",
              "      <td>5</td>\n",
              "      <td>311</td>\n",
              "      <td>15.2</td>\n",
              "      <td>386.71</td>\n",
              "      <td>17.10</td>\n",
              "    </tr>\n",
              "  </tbody>\n",
              "</table>\n",
              "</div>"
            ],
            "text/plain": [
              "       crim    zn  indus  chas    nox     rm    age     dis  rad  tax  \\\n",
              "ID                                                                      \n",
              "3   0.02729   0.0   7.07     0  0.469  7.185   61.1  4.9671    2  242   \n",
              "6   0.02985   0.0   2.18     0  0.458  6.430   58.7  6.0622    3  222   \n",
              "8   0.14455  12.5   7.87     0  0.524  6.172   96.1  5.9505    5  311   \n",
              "9   0.21124  12.5   7.87     0  0.524  5.631  100.0  6.0821    5  311   \n",
              "10  0.17004  12.5   7.87     0  0.524  6.004   85.9  6.5921    5  311   \n",
              "\n",
              "    ptratio   black  lstat  \n",
              "ID                          \n",
              "3      17.8  392.83   4.03  \n",
              "6      18.7  394.12   5.21  \n",
              "8      15.2  396.90  19.15  \n",
              "9      15.2  386.63  29.93  \n",
              "10     15.2  386.71  17.10  "
            ]
          },
          "execution_count": 3,
          "metadata": {},
          "output_type": "execute_result"
        }
      ],
      "source": [
        "test_df = pd.read_csv('https://firebasestorage.googleapis.com/v0/b/bible-project-2365c.appspot.com/o/test.csv?alt=media&token=99688b27-9fdb-4ac3-93b8-fa0e0f4d7540', index_col='ID')\n",
        "test_df.head()"
      ]
    },
    {
      "cell_type": "code",
      "execution_count": 4,
      "metadata": {
        "id": "X_2J1JdNEkCG"
      },
      "outputs": [],
      "source": [
        "predictors = ['crim', 'zn', 'indus', 'chas', 'nox', 'rm', 'age', 'dis', 'rad', 'tax', 'ptratio', 'black', 'lstat']\n",
        "target = 'medv'"
      ]
    },
    {
      "cell_type": "markdown",
      "metadata": {
        "id": "hdgTTLyiE1cd"
      },
      "source": [
        "### we must normalize our data for neural networks to perform optimally"
      ]
    },
    {
      "cell_type": "code",
      "execution_count": 5,
      "metadata": {
        "id": "d6NCcnSDFVlD"
      },
      "outputs": [],
      "source": [
        "from sklearn.preprocessing import MinMaxScaler"
      ]
    },
    {
      "cell_type": "code",
      "execution_count": 6,
      "metadata": {
        "id": "oHPSuMSDF1FD"
      },
      "outputs": [],
      "source": [
        "scaler = MinMaxScaler(feature_range=(0, 1))\n",
        "# Scale both the training inputs and outputs\n",
        "scaled_train = scaler.fit_transform(train_df)\n",
        "#scaled_test = scaler.transform(test_df)"
      ]
    },
    {
      "cell_type": "code",
      "execution_count": 7,
      "metadata": {
        "colab": {
          "base_uri": "https://localhost:8080/"
        },
        "id": "TpgnduGhIPq2",
        "outputId": "c6c6145a-79f8-4d97-f888-69cece0c8867"
      },
      "outputs": [
        {
          "name": "stdout",
          "output_type": "stream",
          "text": [
            "Note: median values were scaled by multiplying by 0.0222222222 and adding -0.111111\n"
          ]
        }
      ],
      "source": [
        "# Print out the adjustment that the scaler applied to the total_earnings column of data\n",
        "print(\"Note: median values were scaled by multiplying by {:.10f} and adding {:.6f}\".format(scaler.scale_[13], scaler.min_[13]))\n"
      ]
    },
    {
      "cell_type": "code",
      "execution_count": 8,
      "metadata": {
        "id": "iilBgngrJXkU"
      },
      "outputs": [],
      "source": [
        "multiplied_by = scaler.scale_[13]\n",
        "added = scaler.min_[13]"
      ]
    },
    {
      "cell_type": "code",
      "execution_count": 9,
      "metadata": {
        "colab": {
          "base_uri": "https://localhost:8080/"
        },
        "id": "UP_Ku3NjJlkp",
        "outputId": "26ff541a-5350-4472-f859-a17afbb73f84"
      },
      "outputs": [
        {
          "name": "stdout",
          "output_type": "stream",
          "text": [
            "<class 'numpy.ndarray'>\n"
          ]
        }
      ],
      "source": [
        "print(type(scaled_train))"
      ]
    },
    {
      "cell_type": "code",
      "execution_count": 10,
      "metadata": {
        "id": "Fr_YFCOOJzz-"
      },
      "outputs": [],
      "source": [
        "scaled_train_df = pd.DataFrame(scaled_train, columns=train_df.columns.values)"
      ]
    },
    {
      "cell_type": "code",
      "execution_count": null,
      "metadata": {
        "id": "i7hgv9KCKJpg"
      },
      "outputs": [],
      "source": []
    },
    {
      "cell_type": "markdown",
      "metadata": {
        "id": "SIIYH20PKK5l"
      },
      "source": [
        "# Let't build our tf.keras model"
      ]
    },
    {
      "cell_type": "code",
      "execution_count": 11,
      "metadata": {
        "id": "kn9zJPk7Kv8v"
      },
      "outputs": [],
      "source": [
        "model = tf.keras.Sequential()"
      ]
    },
    {
      "cell_type": "code",
      "execution_count": 12,
      "metadata": {
        "id": "Al3rtKN8Lzks"
      },
      "outputs": [
        {
          "name": "stdout",
          "output_type": "stream",
          "text": [
            "WARNING:tensorflow:From C:\\Users\\ASUS\\anaconda3\\envs\\project\\lib\\site-packages\\tensorflow\\python\\ops\\init_ops.py:1251: calling VarianceScaling.__init__ (from tensorflow.python.ops.init_ops) with dtype is deprecated and will be removed in a future version.\n",
            "Instructions for updating:\n",
            "Call initializer instance with the dtype argument instead of passing it to the constructor\n"
          ]
        }
      ],
      "source": [
        "model.add(tf.keras.layers.Dense(50, activation='relu'))\n",
        "model.add(tf.keras.layers.Dense(100, activation='relu'))\n",
        "model.add(tf.keras.layers.Dense(50, activation='relu'))\n",
        "model.add(tf.keras.layers.Dense(1))"
      ]
    },
    {
      "cell_type": "code",
      "execution_count": 13,
      "metadata": {
        "id": "wLCa6UxaPcvw"
      },
      "outputs": [],
      "source": [
        "model.compile(loss='mean_squared_error', optimizer='adam')"
      ]
    },
    {
      "cell_type": "code",
      "execution_count": 14,
      "metadata": {
        "id": "c3L5qZnARFTr"
      },
      "outputs": [],
      "source": [
        "X = scaled_train_df.drop(target, axis=1).values\n",
        "Y = scaled_train_df[[target]].values"
      ]
    },
    {
      "cell_type": "code",
      "execution_count": 15,
      "metadata": {
        "colab": {
          "base_uri": "https://localhost:8080/"
        },
        "id": "p-8RTtARRxZM",
        "outputId": "af761bda-a75f-43f5-cc56-51e5646472dd"
      },
      "outputs": [
        {
          "name": "stdout",
          "output_type": "stream",
          "text": [
            "Epoch 1/50\n",
            "323/323 - 0s - loss: 0.1139\n",
            "Epoch 2/50\n",
            "323/323 - 0s - loss: 0.0416\n",
            "Epoch 3/50\n",
            "323/323 - 0s - loss: 0.0323\n",
            "Epoch 4/50\n",
            "323/323 - 0s - loss: 0.0272\n",
            "Epoch 5/50\n",
            "323/323 - 0s - loss: 0.0233\n",
            "Epoch 6/50\n",
            "323/323 - 0s - loss: 0.0197\n",
            "Epoch 7/50\n",
            "323/323 - 0s - loss: 0.0174\n",
            "Epoch 8/50\n",
            "323/323 - 0s - loss: 0.0142\n",
            "Epoch 9/50\n",
            "323/323 - 0s - loss: 0.0126\n",
            "Epoch 10/50\n",
            "323/323 - 0s - loss: 0.0119\n",
            "Epoch 11/50\n",
            "323/323 - 0s - loss: 0.0106\n",
            "Epoch 12/50\n",
            "323/323 - 0s - loss: 0.0095\n",
            "Epoch 13/50\n",
            "323/323 - 0s - loss: 0.0091\n",
            "Epoch 14/50\n",
            "323/323 - 0s - loss: 0.0087\n",
            "Epoch 15/50\n",
            "323/323 - 0s - loss: 0.0084\n",
            "Epoch 16/50\n",
            "323/323 - 0s - loss: 0.0078\n",
            "Epoch 17/50\n",
            "323/323 - 0s - loss: 0.0080\n",
            "Epoch 18/50\n",
            "323/323 - 0s - loss: 0.0071\n",
            "Epoch 19/50\n",
            "323/323 - 0s - loss: 0.0073\n",
            "Epoch 20/50\n",
            "323/323 - 0s - loss: 0.0070\n",
            "Epoch 21/50\n",
            "323/323 - 0s - loss: 0.0077\n",
            "Epoch 22/50\n",
            "323/323 - 0s - loss: 0.0072\n",
            "Epoch 23/50\n",
            "323/323 - 0s - loss: 0.0063\n",
            "Epoch 24/50\n",
            "323/323 - 0s - loss: 0.0063\n",
            "Epoch 25/50\n",
            "323/323 - 0s - loss: 0.0062\n",
            "Epoch 26/50\n",
            "323/323 - 0s - loss: 0.0082\n",
            "Epoch 27/50\n",
            "323/323 - 0s - loss: 0.0059\n",
            "Epoch 28/50\n",
            "323/323 - 0s - loss: 0.0060\n",
            "Epoch 29/50\n",
            "323/323 - 0s - loss: 0.0059\n",
            "Epoch 30/50\n",
            "323/323 - 0s - loss: 0.0053\n",
            "Epoch 31/50\n",
            "323/323 - 0s - loss: 0.0084\n",
            "Epoch 32/50\n",
            "323/323 - 0s - loss: 0.0066\n",
            "Epoch 33/50\n",
            "323/323 - 0s - loss: 0.0054\n",
            "Epoch 34/50\n",
            "323/323 - 0s - loss: 0.0048\n",
            "Epoch 35/50\n",
            "323/323 - 0s - loss: 0.0046\n",
            "Epoch 36/50\n",
            "323/323 - 0s - loss: 0.0045\n",
            "Epoch 37/50\n",
            "323/323 - 0s - loss: 0.0046\n",
            "Epoch 38/50\n",
            "323/323 - 0s - loss: 0.0049\n",
            "Epoch 39/50\n",
            "323/323 - 0s - loss: 0.0045\n",
            "Epoch 40/50\n",
            "323/323 - 0s - loss: 0.0044\n",
            "Epoch 41/50\n",
            "323/323 - 0s - loss: 0.0042\n",
            "Epoch 42/50\n",
            "323/323 - 0s - loss: 0.0040\n",
            "Epoch 43/50\n",
            "323/323 - 0s - loss: 0.0041\n",
            "Epoch 44/50\n",
            "323/323 - 0s - loss: 0.0039\n",
            "Epoch 45/50\n",
            "323/323 - 0s - loss: 0.0038\n",
            "Epoch 46/50\n",
            "323/323 - 0s - loss: 0.0038\n",
            "Epoch 47/50\n",
            "323/323 - 0s - loss: 0.0037\n",
            "Epoch 48/50\n",
            "323/323 - 0s - loss: 0.0035\n",
            "Epoch 49/50\n",
            "323/323 - 0s - loss: 0.0034\n",
            "Epoch 50/50\n",
            "323/323 - 0s - loss: 0.0040\n"
          ]
        },
        {
          "data": {
            "text/plain": [
              "<tensorflow.python.keras.callbacks.History at 0x16a82178148>"
            ]
          },
          "execution_count": 15,
          "metadata": {},
          "output_type": "execute_result"
        }
      ],
      "source": [
        "# Train the model\n",
        "model.fit(\n",
        "    X[10:],\n",
        "    Y[10:],\n",
        "    epochs=50,\n",
        "    shuffle=True,\n",
        "    verbose=2\n",
        ")"
      ]
    },
    {
      "cell_type": "code",
      "execution_count": 16,
      "metadata": {
        "colab": {
          "base_uri": "https://localhost:8080/"
        },
        "id": "ktqhbkLfSetW",
        "outputId": "1024536a-0a77-4c9f-ad9b-b43bab4c09f1"
      },
      "outputs": [
        {
          "name": "stdout",
          "output_type": "stream",
          "text": [
            "The mean squared error (MSE) for the test data set is: 0.0026365446392446756\n"
          ]
        }
      ],
      "source": [
        "test_error_rate = model.evaluate(X[:10], Y[:10], verbose=0)\n",
        "print(\"The mean squared error (MSE) for the test data set is: {}\".format(test_error_rate))"
      ]
    },
    {
      "cell_type": "code",
      "execution_count": 17,
      "metadata": {
        "id": "yz4g76YCTAuP"
      },
      "outputs": [],
      "source": [
        "prediction = model.predict(X[:1])\n"
      ]
    },
    {
      "cell_type": "code",
      "execution_count": 18,
      "metadata": {
        "colab": {
          "base_uri": "https://localhost:8080/"
        },
        "id": "jeOXwalhUBcg",
        "outputId": "a692adf0-b7b8-49a3-d7e4-85356a7d7f2f"
      },
      "outputs": [
        {
          "name": "stdout",
          "output_type": "stream",
          "text": [
            "Prediction with scaling - {} 0.4927240014076233\n",
            "Housing Price Prediction  - $27.172580063343048\n"
          ]
        }
      ],
      "source": [
        "y_0 = prediction[0][0]\n",
        "print('Prediction with scaling - {}',format(y_0))\n",
        "y_0 -= added\n",
        "y_0 /= multiplied_by\n",
        "print(\"Housing Price Prediction  - ${}\".format(y_0))"
      ]
    },
    {
      "cell_type": "code",
      "execution_count": 19,
      "metadata": {
        "colab": {
          "base_uri": "https://localhost:8080/"
        },
        "id": "RJ93Me1UVBWY",
        "outputId": "a8d1f846-252e-44a2-9b7c-5451dd242fcf"
      },
      "outputs": [
        {
          "name": "stdout",
          "output_type": "stream",
          "text": [
            "Ground truth with scaling - [0.42222222]\n",
            "Ground Truth Price - $[24.]\n"
          ]
        }
      ],
      "source": [
        "Y_0 = Y[0]\n",
        "print('Ground truth with scaling - {}'.format(Y_0))\n",
        "Y_0 -= added\n",
        "Y_0 /= multiplied_by\n",
        "\n",
        "print('Ground Truth Price - ${}'.format(Y_0))"
      ]
    }
  ],
  "metadata": {
    "accelerator": "GPU",
    "colab": {
      "name": "Boston tf_keras.ipynb",
      "provenance": []
    },
    "kernelspec": {
      "display_name": "Python 3",
      "name": "python3"
    },
    "language_info": {
      "codemirror_mode": {
        "name": "ipython",
        "version": 3
      },
      "file_extension": ".py",
      "mimetype": "text/x-python",
      "name": "python",
      "nbconvert_exporter": "python",
      "pygments_lexer": "ipython3",
      "version": "3.7.11"
    }
  },
  "nbformat": 4,
  "nbformat_minor": 0
}
